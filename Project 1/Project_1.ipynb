{
 "cells": [
  {
   "cell_type": "markdown",
   "metadata": {},
   "source": [
    "# AME Project 1"
   ]
  },
  {
   "cell_type": "code",
   "execution_count": 1,
   "metadata": {},
   "outputs": [],
   "source": [
    "# a. import packeages \n",
    "import pandas as pd \n",
    "import numpy as np\n",
    "from numpy import linalg as la\n",
    "from tabulate import tabulate\n",
    "from scipy.stats import chi2\n",
    "\n",
    "# b. import LinearModels.py file \n",
    "import LinearModels as lm\n",
    "\n",
    "# c. supress Future Warnings\n",
    "import warnings\n",
    "warnings.simplefilter(action='ignore', category=FutureWarning)\n",
    "\n",
    "# d. set autoreloads \n",
    "%load_ext autoreload\n",
    "%autoreload 2"
   ]
  },
  {
   "cell_type": "code",
   "execution_count": 2,
   "metadata": {},
   "outputs": [],
   "source": [
    "# a. import data\n",
    "dat = pd.read_csv('firms.csv')\n",
    "dat = dat[dat.year <= 1970].reset_index(drop=True)"
   ]
  },
  {
   "cell_type": "code",
   "execution_count": 3,
   "metadata": {},
   "outputs": [
    {
     "name": "stdout",
     "output_type": "stream",
     "text": [
      "Data has N=441 and T=3\n"
     ]
    }
   ],
   "source": [
    "# b. defining dimentions \n",
    "N = dat.firmid.unique().size\n",
    "T = dat.year.unique().size\n",
    "assert dat.shape[0] == N*T, f'Error: data is not a balanced panel'\n",
    "print(f'Data has N={N} and T={T}')"
   ]
  },
  {
   "cell_type": "code",
   "execution_count": 4,
   "metadata": {},
   "outputs": [],
   "source": [
    "# a. making the data narrays\n",
    "# i. y\n",
    "y = dat.ldsa.values.reshape((N*T,1))\n",
    "\n",
    "# ii. x (labour, capital)\n",
    "l = dat.lemp.values.reshape((N*T,1))\n",
    "k = dat.lcap.values.reshape((N*T,1))\n",
    "x = np.hstack([l, k])   \n",
    "\n",
    "# iii. set labels\n",
    "label_y = 'Output'\n",
    "label_x = ['Labor','Capital']"
   ]
  },
  {
   "cell_type": "markdown",
   "metadata": {},
   "source": [
    "## Estimators"
   ]
  },
  {
   "cell_type": "markdown",
   "metadata": {},
   "source": [
    "### Pooled OLS (PLOS)"
   ]
  },
  {
   "cell_type": "code",
   "execution_count": 5,
   "metadata": {},
   "outputs": [
    {
     "name": "stdout",
     "output_type": "stream",
     "text": [
      "OLS\n",
      "Dependent variable: Output\n",
      "\n",
      "           Beta      Se    t-values  p-value\n",
      "-------  ------  ------  ----------  ------------\n",
      "Labor    0.6860  0.0208     32.9632  0.0000 (***)\n",
      "Capital  0.2768  0.0183     15.1375  0.0000 (***)\n",
      "R² = 0.917\n",
      "σ² = 0.127\n"
     ]
    }
   ],
   "source": [
    "# a. estimate coefficients\n",
    "ols_result = lm.estimate(y, x, '', T=T, robust = True)\n",
    "\n",
    "# b. print table\n",
    "lm.print_table((label_y, label_x), ols_result, title=\"OLS\", floatfmt='.4f')"
   ]
  },
  {
   "cell_type": "markdown",
   "metadata": {},
   "source": [
    "### Fixed Effects (FE) "
   ]
  },
  {
   "cell_type": "code",
   "execution_count": 6,
   "metadata": {},
   "outputs": [
    {
     "name": "stdout",
     "output_type": "stream",
     "text": [
      "Rank of demeaned x: 2\n",
      "Eigenvalues of x: [9. 5.]\n",
      "\n",
      "\n",
      "FE regression\n",
      "Dependent variable: Output\n",
      "\n",
      "           Beta      Se    t-values  p-value\n",
      "-------  ------  ------  ----------  ------------\n",
      "Labor    0.6004  0.0497     12.0916  0.0000 (***)\n",
      "Capital  0.0502  0.0477      1.0533  0.2924\n",
      "R² = 0.284\n",
      "σ² = 0.008\n"
     ]
    }
   ],
   "source": [
    "# a. create demeaning matrix and use it\n",
    "def demeaning_matrix(T):\n",
    "    Q_T = np.eye(T) - np.tile(1/T,(T,T))\n",
    "    return Q_T\n",
    "Q_T = demeaning_matrix(T)\n",
    "\n",
    "# b. demean data\n",
    "y_demean = lm.perm(Q_T, y)\n",
    "x_demean = lm.perm(Q_T, x)\n",
    "\n",
    "# c. create function to check rank of demeaned matrix, and return its eigenvalues\n",
    "def check_rank(x):\n",
    "    print(f'Rank of demeaned x: {la.matrix_rank(x)}')\n",
    "    lambdas, V = la.eig(x.T@x)\n",
    "    np.set_printoptions(suppress=True)  # This is just to print nicely.\n",
    "    print(f'Eigenvalues of x: {lambdas.round(decimals=0)}')\n",
    "\n",
    "# d. check rank of demeaned x\n",
    "check_rank(x_demean)\n",
    "\n",
    "# e. estimate FE using the demeaned variables\n",
    "fe_result = lm.estimate(y_demean, x_demean, transform='fe', T=T, robust=True)\n",
    "\n",
    "# f. print results\n",
    "print('\\n')\n",
    "lm.print_table((label_y, label_x), fe_result, title='FE regression', floatfmt='.4f')"
   ]
  },
  {
   "cell_type": "markdown",
   "metadata": {},
   "source": [
    "### First-difference (FD)"
   ]
  },
  {
   "cell_type": "code",
   "execution_count": 7,
   "metadata": {},
   "outputs": [
    {
     "name": "stdout",
     "output_type": "stream",
     "text": [
      "Rank of demeaned x: 2\n",
      "Eigenvalues of x: [11.  7.]\n",
      "\n",
      "\n",
      "FD regression\n",
      "Dependent variable: Output\n",
      "\n",
      "           Beta      Se    t-values  p-value\n",
      "-------  ------  ------  ----------  ------------\n",
      "Labor    0.5509  0.0491     11.2173  0.0000 (***)\n",
      "Capital  0.0381  0.0493      0.7723  0.4401\n",
      "R² = 0.217\n",
      "σ² = 0.013\n"
     ]
    }
   ],
   "source": [
    "# a. create transformation matrix function and use it\n",
    "def fd_matrix(T):\n",
    "    D_T = np.eye(T, k = 0) - np.eye(T, k=-1)\n",
    "    D_T = D_T[1:]\n",
    "    return D_T\n",
    "D_T = fd_matrix(T)\n",
    "\n",
    "# b. transform the data\n",
    "y_diff = lm.perm(D_T, y)\n",
    "x_diff = lm.perm(D_T, x)\n",
    "\n",
    "# c. check rank of x_diff\n",
    "check_rank(x_diff)\n",
    "\n",
    "# d. estimate FD using the transformed variables\n",
    "fd_result = lm.estimate(y_diff, x_diff, transform='fd', T=T-1, robust=True)\n",
    "\n",
    "# e. Print results\n",
    "print('\\n')\n",
    "lm.print_table((label_y, label_x), fd_result, title='FD regression', floatfmt='.4f')"
   ]
  },
  {
   "cell_type": "markdown",
   "metadata": {},
   "source": [
    "### Between (BE)"
   ]
  },
  {
   "cell_type": "code",
   "execution_count": 8,
   "metadata": {},
   "outputs": [
    {
     "name": "stdout",
     "output_type": "stream",
     "text": [
      "Rank of demeaned x: 2\n",
      "Eigenvalues of x: [  64. 1403.]\n",
      "\n",
      "\n",
      "Between Estimator\n",
      "Dependent variable: Output\n",
      "\n",
      "           Beta      Se    t-values  p-value\n",
      "-------  ------  ------  ----------  ------------\n",
      "Labor    0.6856  0.0356     19.2572  0.0000 (***)\n",
      "Capital  0.2778  0.0314      8.8594  0.0000 (***)\n",
      "R² = 0.921\n",
      "σ² = 0.122\n"
     ]
    }
   ],
   "source": [
    "# a. create transformation matrix function and use it\n",
    "def mean_matrix(T):\n",
    "    P_T = np.tile(1/T, (1,T))\n",
    "    return P_T\n",
    "P_T = mean_matrix(T)\n",
    "\n",
    "# b. transform the data\n",
    "y_mean = lm.perm(P_T, y)\n",
    "x_mean = lm.perm(P_T, x)\n",
    "\n",
    "# c. check rank of x_mean\n",
    "check_rank(x_mean)\n",
    "\n",
    "# d. estimate \n",
    "be_result = lm.estimate(y_mean, x_mean, transform = 'be', T=T, robust=True)\n",
    "\n",
    "# e. print results\n",
    "print('\\n')\n",
    "lm.print_table((label_y, label_x), be_result, title=\"Between Estimator\", floatfmt='.4f')"
   ]
  },
  {
   "cell_type": "markdown",
   "metadata": {},
   "source": [
    "### Random Effects (RE)"
   ]
  },
  {
   "cell_type": "code",
   "execution_count": 9,
   "metadata": {},
   "outputs": [
    {
     "name": "stdout",
     "output_type": "stream",
     "text": [
      "Rank of demeaned x: 2\n",
      "Eigenvalues of x: [  9. 102.]\n",
      "\n",
      "\n",
      "Random Effects\n",
      "Dependent variable: Output\n",
      "\n",
      "           Beta      Se    t-values  p-value\n",
      "-------  ------  ------  ----------  ------------\n",
      "Labor    0.6912  0.0490     14.0963  0.0000 (***)\n",
      "Capital  0.2477  0.0468      5.2920  0.0000 (***)\n",
      "R² = 0.797\n",
      "σ² = 0.008\n",
      "λ = 0.851\n"
     ]
    }
   ],
   "source": [
    "# a. calculate lambda from sigma2_u and sigma2_c\n",
    "sigma2_u = fe_result['sigma2']\n",
    "sigma2_c = be_result['sigma2'] - sigma2_u/T\n",
    "_lambda = 1 - np.sqrt((sigma2_u)/(sigma2_u + T*sigma2_c))\n",
    "\n",
    "# b. create the transformation matrix and use it\n",
    "def quasi_matrix(T,_lambda):\n",
    "    return np.eye(T) - _lambda*P_T\n",
    "C_T = quasi_matrix(T,_lambda)\n",
    "\n",
    "# c. transforming data\n",
    "y_re = lm.perm(C_T,y)\n",
    "x_re = lm.perm(C_T,x)\n",
    "\n",
    "# d. check rank of x_re\n",
    "check_rank(x_re)\n",
    "\n",
    "# e. estimate \n",
    "re_result = lm.estimate(y_re, x_re, transform=\"re\", T=T, robust=True, sigma2_u = sigma2_u, sigma2_c = sigma2_c) \n",
    "\n",
    "# f. print results\n",
    "print('\\n')\n",
    "lm.print_table((label_y, label_x), re_result, title=\"Random Effects\", floatfmt='.4f', _lambda = _lambda)"
   ]
  },
  {
   "cell_type": "markdown",
   "metadata": {},
   "source": [
    "### All Estimators"
   ]
  },
  {
   "cell_type": "code",
   "execution_count": 10,
   "metadata": {},
   "outputs": [
    {
     "name": "stdout",
     "output_type": "stream",
     "text": [
      "All estimators:\n",
      "        OLS                  FE                   FD                   RE\n",
      "------  -------------------  -------------------  -------------------  -------------------\n",
      "beta_L  0.686 (0.0208) ***   0.6004 (0.0497) ***  0.5509 (0.0491) ***  0.6912 (0.049) ***\n",
      "beta_K  0.2768 (0.0183) ***  0.0502 (0.0477)      0.0381 (0.0493)      0.2477 (0.0468) ***\n",
      "Note: Parentheses contain standard errors and asterisks contain significans level\n"
     ]
    }
   ],
   "source": [
    "# a. collecting all estimated parameters and standard errors\n",
    "estimator_params = np.concatenate((ols_result['b_hat'], fe_result['b_hat'], fd_result['b_hat'], re_result['b_hat']), axis = 1).round(4)\n",
    "estimator_se = np.concatenate((ols_result['se'], fe_result['se'], fd_result['se'], re_result['se']), axis = 1).round(4)\n",
    "estimator_ast = np.concatenate((ols_result['ast'], fe_result['ast'], fd_result['ast'], re_result['ast']), axis = 1)\n",
    "\n",
    "# b. create model headers and row names\n",
    "model_headers = [\"OLS\", \"FE\", \"FD\", \"RE\"]\n",
    "row_names = np.array([[\"beta_L\", \"beta_K\"]])\n",
    "\n",
    "# c. combine estimator_params and estimator_se\n",
    "combined_values = []\n",
    "for i in range(estimator_params.shape[0]):\n",
    "    # i. combining estimator_params and estimator_se in parenthesis\n",
    "    row_values = [\n",
    "        f\"{estimator_params[i, j]} ({estimator_se[i, j]}) {estimator_ast[i, j]}\"\n",
    "        for j in range(estimator_params.shape[1])\n",
    "    ]\n",
    "    # ii. appending row_values\n",
    "    combined_values.append(row_values)\n",
    "\n",
    "# d. convert combined_values to a NumPy array\n",
    "combined_array = np.array(combined_values)\n",
    "\n",
    "# e. concatenate row_names and combined_array\n",
    "est_comp = np.hstack((row_names.T, combined_array))\n",
    "\n",
    "# f. create the table using tabulate\n",
    "est_table = tabulate(est_comp, headers=model_headers, floatfmt='.4f')\n",
    "\n",
    "# g. print the table\n",
    "print('All estimators:')\n",
    "print(est_table)\n",
    "print('Note: Parentheses contain standard errors and asterisks contain significans level')"
   ]
  },
  {
   "cell_type": "markdown",
   "metadata": {},
   "source": [
    "## Tests"
   ]
  },
  {
   "cell_type": "markdown",
   "metadata": {},
   "source": [
    "### Wald Test - Constant Return to Scale"
   ]
  },
  {
   "cell_type": "code",
   "execution_count": 11,
   "metadata": {},
   "outputs": [
    {
     "name": "stdout",
     "output_type": "stream",
     "text": [
      "Wald Test:\n",
      "                   POLS       FE       FD      RE\n",
      "--------------  -------  -------  -------  ------\n",
      "Test value      24.8805  38.6404  40.3613  1.5202\n",
      "Critical value   3.8415   3.8415   3.8415  3.8415\n",
      "p-value          0.0000   0.0000   0.0000  0.2176\n"
     ]
    }
   ],
   "source": [
    "# a. imposing restrictions\n",
    "R = np.array([[1, 1]])  \n",
    "r = 1\n",
    "Q = 1\n",
    "\n",
    "# b. create function to perform Wald test\n",
    "def Wald_test(params, cov, headers_col, headers_row, R=R, r=r):\n",
    "    # i. Number of test of interest \n",
    "    M = params.shape[1]  \n",
    "    # ii. Create empty matrix\n",
    "    out = np.zeros((3, M))\n",
    "    # iii. Loop over estimators\n",
    "    for i in range(M):\n",
    "        # o. Test statistic\n",
    "        test_stat = (R @ params[:, i] - r) @ la.inv(R @ cov[i] @ R.T) @ (R @ params[:, i] - r)\n",
    "        # oo. Critical value\n",
    "        critical_value = chi2.ppf(0.95, df = Q)  \n",
    "        # ooo. p-value\n",
    "        p_value = chi2.sf(test_stat, df = Q)     \n",
    "        # oooo. Store results\n",
    "        out[:, i] = [test_stat, critical_value, p_value]\n",
    "    # iv. Make and print table\n",
    "    table = tabulate(np.hstack((headers_row.T, out)), headers_col, floatfmt=\".4f\")\n",
    "    print('Wald Test:')\n",
    "    print(table)\n",
    "\n",
    "# c. create headers for rows and columns \n",
    "headers_row = np.array([['Test value', 'Critical value', 'p-value']])\n",
    "headers_col = [\"POLS\", \"FE\", \"FD\", \"RE\"]\n",
    "\n",
    "# d. extract the covariance matrices\n",
    "estimator_cov = np.array([ols_result['cov'], fe_result['cov'], fd_result['cov'], re_result['cov']])\n",
    "\n",
    "# f. perform Wald test\n",
    "Wald_test(estimator_params, estimator_cov, headers_col, headers_row)"
   ]
  },
  {
   "cell_type": "markdown",
   "metadata": {},
   "source": [
    "### Hausman"
   ]
  },
  {
   "cell_type": "code",
   "execution_count": 12,
   "metadata": {},
   "outputs": [
    {
     "name": "stdout",
     "output_type": "stream",
     "text": [
      "Hausman Test:\n",
      "The test statistic is 95.16.\n",
      "The critical value at a 5% significance level is 5.99.\n",
      "The p-value is 0.00000000.\n"
     ]
    }
   ],
   "source": [
    "# a. unpack estimators and covariance matrices\n",
    "b_fe = fe_result['b_hat']\n",
    "b_re = re_result['b_hat']\n",
    "cov_fe = fe_result['cov']\n",
    "cov_re = re_result['cov']\n",
    "\n",
    "# b. calculate the test statistic\n",
    "b_diff = b_fe - b_re \n",
    "cov_diff = cov_fe - cov_re\n",
    "H = b_diff.T @ la.inv(cov_diff) @ b_diff\n",
    "\n",
    "# c. find critical value and p-value at 5% significance level of chi^2 with M degrees of freedom\n",
    "K = b_fe.shape[0]\n",
    "crit_val = chi2.ppf(0.95, df = K)\n",
    "p_val = chi2.sf(H.item(), df = K)\n",
    "\n",
    "# d. Print the results\n",
    "print('Hausman Test:')\n",
    "print(f'The test statistic is {H.item():.2f}.')\n",
    "print(f'The critical value at a 5% significance level is {crit_val:.2f}.')\n",
    "print(f'The p-value is {p_val:.8f}.')"
   ]
  },
  {
   "cell_type": "markdown",
   "metadata": {},
   "source": [
    "### Strict Exogeneity for FE Estimator"
   ]
  },
  {
   "cell_type": "code",
   "execution_count": 13,
   "metadata": {},
   "outputs": [
    {
     "name": "stdout",
     "output_type": "stream",
     "text": [
      "Exogeneity test of FE\n",
      "Dependent variable: Output\n",
      "\n",
      "           Beta      Se    t-values  p-value\n",
      "-------  ------  ------  ----------  ------------\n",
      "Labor    0.4797  0.0507      9.4576  0.0000 (***)\n",
      "Capital  0.0835  0.0616      1.3564  0.1753\n",
      "Labor w  0.1608  0.0501      3.2126  0.0014 (**)\n",
      "R² = 0.220\n",
      "σ² = 0.006\n",
      "\n",
      "\n",
      "The test statistic is 10.32.\n",
      "The critical value at a 5% significance level is 3.84.\n",
      "The p-value is 0.00131533.\n"
     ]
    }
   ],
   "source": [
    "# a. remove the last observed year for lead \n",
    "F_T = np.eye(T, k = 1)[:-1]\n",
    "lab_w = lm.perm(F_T, x[:, 0].reshape(-1, 1))\n",
    "\n",
    "# b. remove the last observed year\n",
    "I_T =  np.eye(T, k = 0)[:-1]\n",
    "x_exo = lm.perm(I_T, x)\n",
    "y_exo = lm.perm(I_T, y)\n",
    "\n",
    "# c. add lab_lead and cap_lead to x_exo\n",
    "x_exo = np.hstack((x_exo, lab_w))\n",
    "\n",
    "# d. within transform the data\n",
    "Q_T = demeaning_matrix(T-1)\n",
    "yw_exo = lm.perm(Q_T, y_exo)\n",
    "xw_exo = lm.perm(Q_T, x_exo)\n",
    "\n",
    "# e. estimate FE model\n",
    "exo_test = lm.estimate(yw_exo, xw_exo, transform='fe', T=T-1)\n",
    "\n",
    "# f. print results\n",
    "label_exo = label_x + ['Labor w']\n",
    "lm.print_table((label_y, label_exo), exo_test, title='Exogeneity test of FE', floatfmt='.4f')\n",
    "\n",
    "# g. impose restrictions and degrees of freedom\n",
    "R = np.array([[0,0,1]])\n",
    "r = np.zeros((1,1))\n",
    "Q = r.shape[0]\n",
    "\n",
    "# h. calculate test statistic, critical value and p-value\n",
    "stat = (R@exo_test['b_hat'] - r).T@la.inv((R@exo_test['cov']@R.T))@(R@exo_test['b_hat'] - r)\n",
    "crit_val = chi2.ppf(0.95, df = Q)\n",
    "p_val = chi2.sf(stat.item(), df = Q)\n",
    "\n",
    "# i. print results\n",
    "print('\\n')\n",
    "print(f'The test statistic is {stat.item():.2f}.')\n",
    "print(f'The critical value at a 5% significance level is {crit_val:.2f}.')\n",
    "print(f'The p-value is {p_val:.8f}.')"
   ]
  },
  {
   "cell_type": "markdown",
   "metadata": {},
   "source": [
    "### Strict Exogeneity for FD Estimator"
   ]
  },
  {
   "cell_type": "code",
   "execution_count": 14,
   "metadata": {},
   "outputs": [
    {
     "name": "stdout",
     "output_type": "stream",
     "text": [
      "Exogeneity test of FD\n",
      "Dependent variable: Output\n",
      "\n",
      "            Beta      Se    t-values  p-value\n",
      "-------  -------  ------  ----------  ------------\n",
      "Labor     0.5450  0.0368     14.8153  0.0000 (***)\n",
      "Capital   0.0289  0.0437      0.6596  0.5097\n",
      "Labor w  -0.0045  0.0033     -1.3614  0.1737\n",
      "R² = 0.219\n",
      "σ² = 0.013\n",
      "\n",
      "\n",
      "The test statistic is 1.85.\n",
      "The critical value at a 5% significance level is 3.84.\n",
      "The p-value is 0.17339947.\n"
     ]
    }
   ],
   "source": [
    "# a. remove first observation and thus create lag capital and labor\n",
    "F_T = np.eye(T, k=-1)[1:] \n",
    "lab_w = lm.perm(F_T, x[:, 0].reshape(-1, 1))\n",
    "\n",
    "# b. FD transform the data\n",
    "D_T = fd_matrix(T)\n",
    "yw_exo = lm.perm(D_T, y)\n",
    "xw_exo = lm.perm(D_T, x)\n",
    "\n",
    "# c. stack x and lab_w (lab_w should not be FD transformed)\n",
    "xw_exo_new = np.hstack((xw_exo, lab_w))\n",
    "\n",
    "# d. estimate model\n",
    "exo_test = lm.estimate(yw_exo, xw_exo_new, transform='fd', T=T-1)\n",
    "\n",
    "# e. print results\n",
    "label_exo = label_x + ['Labor w']\n",
    "lm.print_table((label_y, label_exo), exo_test, title='Exogeneity test of FD', floatfmt='.4f')\n",
    "\n",
    "# f. impose restrictions and degrees of freedom\n",
    "R = np.array([[0,0,1]])\n",
    "r = np.zeros((1,1))\n",
    "Q = r.shape[0]\n",
    "\n",
    "# g. calculate test statistic, critical value and p-value\n",
    "stat = (R@exo_test['b_hat'] - r).T@la.inv((R@exo_test['cov']@R.T))@(R@exo_test['b_hat'] - r)\n",
    "crit_val = chi2.ppf(0.95, df = Q)\n",
    "p_val = chi2.sf(stat.item(), df = Q) \n",
    "\n",
    "# h. print results\n",
    "print('\\n')\n",
    "print(f'The test statistic is {stat.item():.2f}.')\n",
    "print(f'The critical value at a 5% significance level is {crit_val:.2f}.')\n",
    "print(f'The p-value is {p_val:.8f}.')"
   ]
  },
  {
   "cell_type": "markdown",
   "metadata": {},
   "source": [
    "### Test for serial correlation in the errors of FD\n",
    "#### An auxilliary AR(1) model"
   ]
  },
  {
   "cell_type": "code",
   "execution_count": 15,
   "metadata": {},
   "outputs": [
    {
     "name": "stdout",
     "output_type": "stream",
     "text": [
      "Serial Correlation\n",
      "Dependent variable: OLS residual, eᵢₜ\n",
      "\n",
      "          Beta      Se    t-values  p-value\n",
      "-----  -------  ------  ----------  ------------\n",
      "eᵢₜ₋₁  -0.1849  0.0483     -3.8295  0.0001 (***)\n",
      "R² = 0.032\n",
      "σ² = 0.013\n"
     ]
    }
   ],
   "source": [
    "# a. make function to calculate the serial correlation\n",
    "def serial_corr(y, x, T):\n",
    "    # i. calculate the residuals\n",
    "    b_hat = la.inv(x.T @ x) @ (x.T @ y)\n",
    "    e = y - (x @ b_hat)\n",
    "    \n",
    "    # ii. create a lag transformation matrix\n",
    "    L_T = np.eye(T, k = -1)[1:]\n",
    "    \n",
    "    # iii. lag residuals\n",
    "    e_l = lm.perm(L_T, e)\n",
    "\n",
    "    # iv. create a transformation matrix that removes the first observation of each individal\n",
    "    I_T = np.eye(T, k = 0)[1:]\n",
    "    \n",
    "    # v. remove first observation of each individual\n",
    "    e = lm.perm(I_T, e)\n",
    "    \n",
    "    # vi. calculate the serial correlation\n",
    "    return lm.estimate(e, e_l, transform='fd', T=T-1)\n",
    "\n",
    "# b. estimate serial correlation\n",
    "corr_result = serial_corr(y_diff, x_diff, T-1)\n",
    "\n",
    "# c. print results\n",
    "label_ye = 'OLS residual, e\\u1d62\\u209c'\n",
    "label_e = ['e\\u1d62\\u209c\\u208B\\u2081']\n",
    "lm.print_table((label_ye, label_e), corr_result, title='Serial Correlation', floatfmt='.4f')"
   ]
  }
 ],
 "metadata": {
  "kernelspec": {
   "display_name": "base",
   "language": "python",
   "name": "python3"
  },
  "language_info": {
   "codemirror_mode": {
    "name": "ipython",
    "version": 3
   },
   "file_extension": ".py",
   "mimetype": "text/x-python",
   "name": "python",
   "nbconvert_exporter": "python",
   "pygments_lexer": "ipython3",
   "version": "3.11.4"
  },
  "orig_nbformat": 4
 },
 "nbformat": 4,
 "nbformat_minor": 2
}
