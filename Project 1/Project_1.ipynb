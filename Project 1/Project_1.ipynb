{
 "cells": [
  {
   "cell_type": "markdown",
   "metadata": {},
   "source": [
    "# AME Project 1"
   ]
  },
  {
   "cell_type": "code",
   "execution_count": 67,
   "metadata": {},
   "outputs": [
    {
     "name": "stdout",
     "output_type": "stream",
     "text": [
      "The autoreload extension is already loaded. To reload it, use:\n",
      "  %reload_ext autoreload\n"
     ]
    }
   ],
   "source": [
    "# Import packeages \n",
    "import pandas as pd \n",
    "import numpy as np\n",
    "import seaborn as sns\n",
    "from numpy import linalg as la\n",
    "from io import StringIO\n",
    "from tabulate import tabulate\n",
    "from matplotlib import pyplot as plt\n",
    "from scipy.stats import chi2\n",
    "\n",
    "# Import LinearModels.py file \n",
    "import LM_ex3 as lm\n",
    "\n",
    "# Supress Future Warnings\n",
    "import warnings\n",
    "warnings.simplefilter(action='ignore', category=FutureWarning)\n",
    "\n",
    "# Set autoreloads \n",
    "%load_ext autoreload\n",
    "%autoreload 2"
   ]
  },
  {
   "cell_type": "code",
   "execution_count": 68,
   "metadata": {},
   "outputs": [],
   "source": [
    "# Import data\n",
    "dat = pd.read_csv('firms.csv')"
   ]
  },
  {
   "cell_type": "code",
   "execution_count": 69,
   "metadata": {},
   "outputs": [
    {
     "name": "stdout",
     "output_type": "stream",
     "text": [
      "Data has N=441 and T=12\n"
     ]
    }
   ],
   "source": [
    "# Defining dimentions \n",
    "N = dat.firmid.unique().size\n",
    "T = dat.year.unique().size\n",
    "assert dat.shape[0] == N*T, f'Error: data is not a balanced panel'\n",
    "print(f'Data has N={N} and T={T}')"
   ]
  },
  {
   "cell_type": "code",
   "execution_count": 70,
   "metadata": {},
   "outputs": [],
   "source": [
    "# Making the data narrays\n",
    "# a. y\n",
    "y = dat.ldsa.values.reshape((N*T,1))\n",
    "\n",
    "# b. x (constant, labour, capital)\n",
    "ones = np.ones((N*T,1))\n",
    "l = dat.lemp.values.reshape((N*T,1))\n",
    "k = dat.lcap.values.reshape((N*T,1))\n",
    "# i. stack the arrays\n",
    "x = np.hstack([l, k])   # Disregarding constant term, as data is demeaned\n",
    "\n",
    "# c. set labels\n",
    "label_y = 'sales'\n",
    "label_x = ['labour','capital']"
   ]
  },
  {
   "cell_type": "markdown",
   "metadata": {},
   "source": [
    "## Estimators"
   ]
  },
  {
   "cell_type": "markdown",
   "metadata": {},
   "source": [
    "### Pooled OLS (PLOS)"
   ]
  },
  {
   "cell_type": "code",
   "execution_count": 71,
   "metadata": {},
   "outputs": [
    {
     "name": "stdout",
     "output_type": "stream",
     "text": [
      "Pooled OLS\n",
      "Dependent variable: sales\n",
      "\n",
      "           Beta      Se    t-values\n",
      "-------  ------  ------  ----------\n",
      "labour   0.6748  0.0102     66.4688\n",
      "capital  0.3100  0.0091     33.9269\n",
      "R² = 0.914\n",
      "σ² = 0.131\n"
     ]
    }
   ],
   "source": [
    "# Estimate coefficients\n",
    "ols_result = lm.estimate(y, x, '', T=T)\n",
    "\n",
    "# Print table\n",
    "lm.print_table((label_y, label_x), ols_result, title=\"Pooled OLS\", floatfmt='.4f')"
   ]
  },
  {
   "cell_type": "markdown",
   "metadata": {},
   "source": [
    "### Fixed Effects (FE) "
   ]
  },
  {
   "cell_type": "code",
   "execution_count": 72,
   "metadata": {},
   "outputs": [
    {
     "name": "stdout",
     "output_type": "stream",
     "text": [
      "Rank of demeaned x: 2\n",
      "Eigenvalues of within-transformed x: [ 58. 214.]\n",
      "\n",
      "\n",
      "FE regression\n",
      "Dependent variable: sales\n",
      "\n",
      "           Beta      Se    t-values\n",
      "-------  ------  ------  ----------\n",
      "labour   0.6942  0.0147     47.2447\n",
      "capital  0.1546  0.0130     11.9311\n",
      "R² = 0.477\n",
      "σ² = 0.018\n"
     ]
    }
   ],
   "source": [
    "# Create transformation matrix\n",
    "def demeaning_matrix(T):\n",
    "    Q_T = np.eye(T) - np.tile(1/T,(T,T))\n",
    "    return Q_T\n",
    "\n",
    "# Print the matrix\n",
    "Q_T = demeaning_matrix(T)\n",
    "\n",
    "# Transform the data\n",
    "y_demean = lm.perm(Q_T, y)\n",
    "x_demean = lm.perm(Q_T, x)\n",
    "\n",
    "# Create function to check rank of demeaned matrix, and return its eigenvalues.\n",
    "def check_rank(x):\n",
    "    print(f'Rank of demeaned x: {la.matrix_rank(x)}')\n",
    "    lambdas, V = la.eig(x.T@x)\n",
    "    np.set_printoptions(suppress=True)  # This is just to print nicely.\n",
    "    print(f'Eigenvalues of within-transformed x: {lambdas.round(decimals=0)}')\n",
    "\n",
    "# Check rank of demeaned x\n",
    "check_rank(x_demean)\n",
    "\n",
    "# Estimate FE OLS using the demeaned variables.\n",
    "fe_result = lm.estimate(y_demean, x_demean, transform='fe', T=T)\n",
    "\n",
    "# Print results\n",
    "print('\\n')\n",
    "lm.print_table((label_y, label_x), fe_result, title='FE regression', floatfmt='.4f')"
   ]
  },
  {
   "cell_type": "markdown",
   "metadata": {},
   "source": [
    "### First-difference (FD)"
   ]
  },
  {
   "cell_type": "code",
   "execution_count": 73,
   "metadata": {},
   "outputs": [
    {
     "name": "stdout",
     "output_type": "stream",
     "text": [
      "Rank of demeaned x: 2\n",
      "Eigenvalues of within-transformed x: [47. 35.]\n",
      "\n",
      "\n",
      "FD regression\n",
      "Dependent variable: sales\n",
      "\n",
      "           Beta      Se    t-values\n",
      "-------  ------  ------  ----------\n",
      "labour   0.5487  0.0183     29.9635\n",
      "capital  0.0630  0.0191      3.3043\n",
      "R² = 0.165\n",
      "σ² = 0.014\n"
     ]
    }
   ],
   "source": [
    "# create transformation matrix\n",
    "def fd_matrix(T):\n",
    "    D_T = np.eye(T, k = 0) - np.eye(T, k=-1)\n",
    "    D_T = D_T[1:]\n",
    "    return D_T\n",
    "\n",
    "# use the function to create the matrix\n",
    "D_T = fd_matrix(T)\n",
    "\n",
    "# Transform the data.\n",
    "y_diff = lm.perm(D_T, y)\n",
    "x_diff = lm.perm(D_T, x)\n",
    "\n",
    "# Check rank of x_diff\n",
    "check_rank(x_diff)\n",
    "\n",
    "# Estimate FE OLS using the demeaned variables.\n",
    "fd_result = lm.estimate(y_diff, x_diff, transform='fd', T=T-1)\n",
    "\n",
    "# Print results\n",
    "print('\\n')\n",
    "lm.print_table((label_y, label_x), fd_result, title='FD regression', floatfmt='.4f')"
   ]
  },
  {
   "cell_type": "markdown",
   "metadata": {},
   "source": [
    "### Between (BE)"
   ]
  },
  {
   "cell_type": "code",
   "execution_count": 74,
   "metadata": {},
   "outputs": [
    {
     "name": "stdout",
     "output_type": "stream",
     "text": [
      "Between Estimator\n",
      "Dependent variable: sales\n",
      "\n",
      "           Beta      Se    t-values\n",
      "-------  ------  ------  ----------\n",
      "labour   0.6672  0.0343     19.4794\n",
      "capital  0.3188  0.0308     10.3348\n",
      "R² = 0.923\n",
      "σ² = 0.115\n"
     ]
    }
   ],
   "source": [
    "# Transform the data\n",
    "def mean_matrix(T):\n",
    "    P_T = np.tile(1/T, (1,T))\n",
    "    return P_T\n",
    "\n",
    "P_T = mean_matrix(T)\n",
    "\n",
    "# \n",
    "y_mean = lm.perm(P_T, y)\n",
    "x_mean = lm.perm(P_T, x)\n",
    "\n",
    "# Estimate \n",
    "be_result = lm.estimate(y_mean, x_mean, transform = 'be', T=T)\n",
    "lm.print_table((label_y, label_x), be_result, title=\"Between Estimator\", floatfmt='.4f')"
   ]
  },
  {
   "cell_type": "markdown",
   "metadata": {},
   "source": [
    "### Random Effects (RE)"
   ]
  },
  {
   "cell_type": "code",
   "execution_count": 75,
   "metadata": {},
   "outputs": [
    {
     "name": "stdout",
     "output_type": "stream",
     "text": [
      "Random Effects\n",
      "Dependent variable: sales\n",
      "\n",
      "           Beta      Se    t-values\n",
      "-------  ------  ------  ----------\n",
      "labour   0.7197  0.0131     54.8368\n",
      "capital  0.1989  0.0117     17.0325\n",
      "R² = 0.642\n",
      "σ² = 0.018\n",
      "λ = 0.887\n"
     ]
    }
   ],
   "source": [
    "# Calculate lambda (note lambda is a reserved keyword in Python, so we use _lambda instead)\n",
    "sigma2_u = fe_result['sigma2']\n",
    "sigma2_c = be_result['sigma2'] - sigma2_u/T\n",
    "_lambda = 1 - np.sqrt((sigma2_u)/(sigma2_u + T*sigma2_c))\n",
    "\n",
    "# Create the transformation matrix\n",
    "def quasi_matrix(T,_lambda):\n",
    "    return np.eye(T) - _lambda*P_T\n",
    "C_T = quasi_matrix(T,_lambda)\n",
    "\n",
    "# Transforming data\n",
    "y_re = lm.perm(C_T,y)\n",
    "x_re = lm.perm(C_T,x)\n",
    "\n",
    "# Estimate \n",
    "re_result = lm.estimate(y_re, x_re, transform=\"re\", T=T) \n",
    "lm.print_table((label_y, label_x), re_result, title=\"Random Effects\", floatfmt='.4f', _lambda = _lambda)"
   ]
  },
  {
   "cell_type": "markdown",
   "metadata": {},
   "source": [
    "### All Estimators"
   ]
  },
  {
   "cell_type": "code",
   "execution_count": 87,
   "metadata": {},
   "outputs": [
    {
     "ename": "SyntaxError",
     "evalue": "invalid syntax (3632940328.py, line 7)",
     "output_type": "error",
     "traceback": [
      "\u001b[0;36m  Cell \u001b[0;32mIn[87], line 7\u001b[0;36m\u001b[0m\n\u001b[0;31m    for i in\u001b[0m\n\u001b[0m             ^\u001b[0m\n\u001b[0;31mSyntaxError\u001b[0m\u001b[0;31m:\u001b[0m invalid syntax\n"
     ]
    }
   ],
   "source": [
    "estimator_params = np.concatenate((ols_result['b_hat'], fe_result['b_hat'], fd_result['b_hat'], re_result['b_hat']), axis = 1).round(decimals=4)\n",
    "\n",
    "estimator_se = np.concatenate((ols_result['se'], fe_result['se'], fd_result['se'], re_result['se']), axis = 1).round(decimals=4)\n",
    "\n",
    "\n",
    "\n",
    "for i in \n",
    "\n",
    "combined_array = np.concatenate((estimator_params, estimator_se), axis=1)\n",
    "\n",
    "# Create an array with parentheses\n",
    "parentheses = np.array([['(', ')']])\n",
    "\n",
    "# Repeat the parentheses array to match the number of rows in combined_array\n",
    "parentheses = np.repeat(parentheses, combined_array.shape[0], axis=0)\n",
    "\n",
    "# Combine the parentheses and combined_array to insert parentheses around columns\n",
    "result_array = np.hstack((parentheses, combined_array))\n",
    "\n",
    "model_headers = [\"OLS\",\"FE\",\"FD\",\"RE\"]\n",
    "\n",
    "row_names = np.array([[\"beta_L\", \"beta_K\"]])\n",
    "\n",
    "est_comp = np.concatenate((row_names.T, result_array), axis = 1)\n",
    "\n",
    "est_table = tabulate(est_comp, model_headers, floatfmt= '.4f')\n",
    "print(est_table)\n"
   ]
  },
  {
   "cell_type": "markdown",
   "metadata": {},
   "source": [
    "## Tests"
   ]
  },
  {
   "cell_type": "markdown",
   "metadata": {},
   "source": [
    "### Wald test"
   ]
  },
  {
   "cell_type": "code",
   "execution_count": 81,
   "metadata": {},
   "outputs": [
    {
     "ename": "NameError",
     "evalue": "name 'est_params' is not defined",
     "output_type": "error",
     "traceback": [
      "\u001b[0;31m---------------------------------------------------------------------------\u001b[0m",
      "\u001b[0;31mNameError\u001b[0m                                 Traceback (most recent call last)",
      "\u001b[1;32m/Users/juliekrabek/Library/Mobile Documents/com~apple~CloudDocs/Uni/2 - KU/3. semester/Microeconometrics/AME_2023_MCJ/Project 1/Project_1.ipynb Cell 19\u001b[0m line \u001b[0;36m1\n\u001b[1;32m     <a href='vscode-notebook-cell:/Users/juliekrabek/Library/Mobile%20Documents/com~apple~CloudDocs/Uni/2%20-%20KU/3.%20semester/Microeconometrics/AME_2023_MCJ/Project%201/Project_1.ipynb#X33sZmlsZQ%3D%3D?line=16'>17</a>\u001b[0m model_headers \u001b[39m=\u001b[39m [\u001b[39m\"\u001b[39m\u001b[39mPOLS\u001b[39m\u001b[39m\"\u001b[39m,\u001b[39m\"\u001b[39m\u001b[39mFE\u001b[39m\u001b[39m\"\u001b[39m,\u001b[39m\"\u001b[39m\u001b[39mFD\u001b[39m\u001b[39m\"\u001b[39m,\u001b[39m\"\u001b[39m\u001b[39mRE\u001b[39m\u001b[39m\"\u001b[39m]\n\u001b[1;32m     <a href='vscode-notebook-cell:/Users/juliekrabek/Library/Mobile%20Documents/com~apple~CloudDocs/Uni/2%20-%20KU/3.%20semester/Microeconometrics/AME_2023_MCJ/Project%201/Project_1.ipynb#X33sZmlsZQ%3D%3D?line=17'>18</a>\u001b[0m est_cov \u001b[39m=\u001b[39m np\u001b[39m.\u001b[39marray((ols_result[\u001b[39m'\u001b[39m\u001b[39mcov\u001b[39m\u001b[39m'\u001b[39m], fe_result[\u001b[39m'\u001b[39m\u001b[39mcov\u001b[39m\u001b[39m'\u001b[39m], fd_result[\u001b[39m'\u001b[39m\u001b[39mcov\u001b[39m\u001b[39m'\u001b[39m], be_result[\u001b[39m'\u001b[39m\u001b[39mcov\u001b[39m\u001b[39m'\u001b[39m], re_result[\u001b[39m'\u001b[39m\u001b[39mcov\u001b[39m\u001b[39m'\u001b[39m]))\n\u001b[0;32m---> <a href='vscode-notebook-cell:/Users/juliekrabek/Library/Mobile%20Documents/com~apple~CloudDocs/Uni/2%20-%20KU/3.%20semester/Microeconometrics/AME_2023_MCJ/Project%201/Project_1.ipynb#X33sZmlsZQ%3D%3D?line=18'>19</a>\u001b[0m Wald_test(est_params, est_cov, model_headers)\n",
      "\u001b[0;31mNameError\u001b[0m: name 'est_params' is not defined"
     ]
    }
   ],
   "source": [
    "# Setting up matrices\n",
    "R = np.array([[1,1]])   # Imposing restrictions\n",
    "r = 1\n",
    "\n",
    "def Wald_test(params, cov, headers, R=R, r=1):\n",
    "    \"\"\"\n",
    "    \"\"\"\n",
    "    M = params.shape[1]     # Number of models of interest\n",
    "    out = np.zeros((3, M))\n",
    "    for i in range(M):\n",
    "        out[0,i] = (R@params[:,i].reshape(-1,1) - r).T@la.inv((R@cov[i,:,:]@R.T))@(R@params[:,i].reshape(-1,1) - r)\n",
    "        out[1,i] = chi2.isf(0.05, df = 1)\n",
    "        out[2,i] = chi2.sf(out[0,i], 1)\n",
    "    table = tabulate(out, headers, floatfmt=\".2f\")\n",
    "    print(table)\n",
    "\n",
    "model_headers = [\"POLS\",\"FE\",\"FD\",\"RE\"]\n",
    "est_cov = np.array((ols_result['cov'], fe_result['cov'], fd_result['cov'], be_result['cov'], re_result['cov']))\n",
    "Wald_test(est_params, est_cov, model_headers)"
   ]
  },
  {
   "cell_type": "markdown",
   "metadata": {},
   "source": [
    "### Hausman"
   ]
  },
  {
   "cell_type": "code",
   "execution_count": 80,
   "metadata": {},
   "outputs": [
    {
     "name": "stdout",
     "output_type": "stream",
     "text": [
      "The test statistic is 49.36.\n",
      "The critical value at a 5% significance level is 19.68.\n",
      "The p-value is 0.00000081.\n"
     ]
    }
   ],
   "source": [
    "# Unpack\n",
    "b_fe = fe_result['b_hat']\n",
    "b_re = re_result['b_hat'][1:5]\n",
    "cov_fe = fe_result['cov']\n",
    "cov_re = re_result['cov'][1:5,1:5]\n",
    "\n",
    "# Calculate the test statistic\n",
    "b_diff = b_fe - b_re \n",
    "cov_diff = cov_fe - cov_re\n",
    "H = b_diff.T @ la.inv(cov_diff) @ b_diff\n",
    "\n",
    "# Find critical value and p-value at 5% significance level of chi^2 with M degrees of freedom\n",
    "M = Q_T.shape[0] \n",
    "crit_val = chi2.ppf(0.95, M)\n",
    "p_val = chi2.sf(H.item(), M)\n",
    "\n",
    "# Print the results\n",
    "print(f'The test statistic is {H.item():.2f}.')\n",
    "print(f'The critical value at a 5% significance level is {crit_val:.2f}.')\n",
    "print(f'The p-value is {p_val:.8f}.')"
   ]
  },
  {
   "cell_type": "markdown",
   "metadata": {},
   "source": [
    "### Strict Exogeneity for FE Estimator"
   ]
  },
  {
   "cell_type": "code",
   "execution_count": 77,
   "metadata": {},
   "outputs": [
    {
     "name": "stdout",
     "output_type": "stream",
     "text": [
      "Exogeneity test\n",
      "Dependent variable: sales\n",
      "\n",
      "                Beta      Se    t-values\n",
      "------------  ------  ------  ----------\n",
      "labour        0.5408  0.0234     23.0904\n",
      "capital       0.0280  0.0230      1.2153\n",
      "Capital lead  0.1667  0.0258      6.4706\n",
      "Labor lead    0.1419  0.0225      6.3134\n",
      "R² = 0.478\n",
      "σ² = 0.016\n"
     ]
    }
   ],
   "source": [
    "F_T = np.eye(T, k=1)[:-1]\n",
    "\n",
    "# Lead capital\n",
    "cap_lead = lm.perm(F_T, x[:, 1].reshape(-1, 1))\n",
    "\n",
    "# Lead labour\n",
    "lab_lead = lm.perm(F_T, x[:, 0].reshape(-1, 1))\n",
    "\n",
    "# Remove the last observed year for every individial\n",
    "I_T =  np.eye(T, k = 0)[:-1]\n",
    "\n",
    "x_exo = lm.perm(I_T, x)\n",
    "y_exo = lm.perm(I_T, y)\n",
    "\n",
    "# Add cap_lead and lab_lead to x_exo\n",
    "x_exo = np.hstack((x_exo, cap_lead, lab_lead))\n",
    "\n",
    "# Within transform the data\n",
    "Q_T = demeaning_matrix(T-1)\n",
    "\n",
    "yw_exo = lm.perm(Q_T, y_exo)\n",
    "xw_exo = lm.perm(Q_T, x_exo)\n",
    "\n",
    "# Estimate model\n",
    "exo_test = lm.estimate(yw_exo, xw_exo, transform='fe', T=T-1)\n",
    "\n",
    "# Print results\n",
    "label_exo = label_x + ['Capital lead', 'Labor lead']\n",
    "lm.print_table((label_y, label_exo), exo_test, title='Exogeneity test', floatfmt='.4f')\n",
    "\n",
    "# Skal der mere til testen? som fx nogle test-statistics? "
   ]
  },
  {
   "cell_type": "markdown",
   "metadata": {},
   "source": [
    "### Strict Exogeneity for FD Estimator"
   ]
  },
  {
   "cell_type": "code",
   "execution_count": 78,
   "metadata": {},
   "outputs": [
    {
     "name": "stdout",
     "output_type": "stream",
     "text": [
      "Exogeneity test\n",
      "Dependent variable: sales\n",
      "\n",
      "                Beta      Se    t-values\n",
      "------------  ------  ------  ----------\n",
      "labour        0.5408  0.0223     24.2184\n",
      "capital       0.0280  0.0220      1.2746\n",
      "Capital lead  0.1667  0.0246      6.7867\n",
      "Labor lead    0.1419  0.0214      6.6218\n",
      "R² = 0.478\n",
      "σ² = 0.015\n"
     ]
    }
   ],
   "source": [
    "F_T = np.eye(T, k=1)[:-1]\n",
    "\n",
    "# Lead capital\n",
    "cap_lead = lm.perm(F_T, x[:, 1].reshape(-1, 1))\n",
    "\n",
    "# Lead labour\n",
    "lab_lead = lm.perm(F_T, x[:, 0].reshape(-1, 1))\n",
    "\n",
    "# Remove the last observed year for every individial\n",
    "I_T =  np.eye(T, k = 0)[:-1]\n",
    "\n",
    "x_exo = lm.perm(I_T, x)\n",
    "y_exo = lm.perm(I_T, y)\n",
    "\n",
    "# Add cap_lead and lab_lead to x_exo\n",
    "x_exo = np.hstack((x_exo, cap_lead, lab_lead))\n",
    "\n",
    "# Within transform the data\n",
    "Q_T = demeaning_matrix(T-1)\n",
    "\n",
    "yw_exo = lm.perm(Q_T, y_exo)\n",
    "xw_exo = lm.perm(Q_T, x_exo)\n",
    "\n",
    "# Estimate model\n",
    "exo_test = lm.estimate(yw_exo, xw_exo, transform='fd', T=T-1)\n",
    "\n",
    "# Print results\n",
    "label_exo = label_x + ['Capital lead', 'Labor lead']\n",
    "lm.print_table((label_y, label_exo), exo_test, title='Exogeneity test', floatfmt='.4f')\n",
    "\n",
    "# Skal der mere til testen? som fx nogle test-statistics? "
   ]
  }
 ],
 "metadata": {
  "kernelspec": {
   "display_name": "base",
   "language": "python",
   "name": "python3"
  },
  "language_info": {
   "codemirror_mode": {
    "name": "ipython",
    "version": 3
   },
   "file_extension": ".py",
   "mimetype": "text/x-python",
   "name": "python",
   "nbconvert_exporter": "python",
   "pygments_lexer": "ipython3",
   "version": "3.11.4"
  },
  "orig_nbformat": 4
 },
 "nbformat": 4,
 "nbformat_minor": 2
}
