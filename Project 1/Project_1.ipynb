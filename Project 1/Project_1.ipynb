{
 "cells": [
  {
   "cell_type": "markdown",
   "metadata": {},
   "source": [
    "# AME Project 1"
   ]
  },
  {
   "cell_type": "code",
   "execution_count": 2,
   "metadata": {},
   "outputs": [],
   "source": [
    "# Import packeages \n",
    "import pandas as pd \n",
    "import numpy as np\n",
    "from numpy import linalg as la\n",
    "from tabulate import tabulate\n",
    "from scipy.stats import chi2\n",
    "\n",
    "# Import LinearModels.py file \n",
    "import LM_ex3 as lm\n",
    "\n",
    "# Supress Future Warnings\n",
    "import warnings\n",
    "warnings.simplefilter(action='ignore', category=FutureWarning)\n",
    "\n",
    "# Set autoreloads \n",
    "%load_ext autoreload\n",
    "%autoreload 2"
   ]
  },
  {
   "cell_type": "code",
   "execution_count": 3,
   "metadata": {},
   "outputs": [],
   "source": [
    "# Import data\n",
    "dat = pd.read_csv('firms.csv')"
   ]
  },
  {
   "cell_type": "code",
   "execution_count": 4,
   "metadata": {},
   "outputs": [
    {
     "name": "stdout",
     "output_type": "stream",
     "text": [
      "Data has N=441 and T=12\n"
     ]
    }
   ],
   "source": [
    "# Defining dimentions \n",
    "N = dat.firmid.unique().size\n",
    "T = dat.year.unique().size\n",
    "assert dat.shape[0] == N*T, f'Error: data is not a balanced panel'\n",
    "print(f'Data has N={N} and T={T}')"
   ]
  },
  {
   "cell_type": "code",
   "execution_count": 5,
   "metadata": {},
   "outputs": [],
   "source": [
    "# Making the data narrays\n",
    "# a. y\n",
    "y = dat.ldsa.values.reshape((N*T,1))\n",
    "\n",
    "# b. x (constant, labour, capital)\n",
    "ones = np.ones((N*T,1))\n",
    "l = dat.lemp.values.reshape((N*T,1))\n",
    "k = dat.lcap.values.reshape((N*T,1))\n",
    "# i. Disregarding constant term, as data is demeaned\n",
    "x = np.hstack([l, k])   \n",
    "\n",
    "# c. set labels\n",
    "label_y = 'Output'\n",
    "label_x = ['Labor','Capital']"
   ]
  },
  {
   "cell_type": "markdown",
   "metadata": {},
   "source": [
    "## Estimators"
   ]
  },
  {
   "cell_type": "markdown",
   "metadata": {},
   "source": [
    "### Pooled OLS (PLOS)"
   ]
  },
  {
   "cell_type": "code",
   "execution_count": 6,
   "metadata": {},
   "outputs": [
    {
     "name": "stdout",
     "output_type": "stream",
     "text": [
      "Pooled OLS\n",
      "Dependent variable: Output\n",
      "\n",
      "           Beta      Se    t-values\n",
      "-------  ------  ------  ----------\n",
      "Labor    0.6748  0.0102     66.4688\n",
      "Capital  0.3100  0.0091     33.9269\n",
      "R² = 0.914\n",
      "σ² = 0.131\n"
     ]
    }
   ],
   "source": [
    "# Estimate coefficients\n",
    "ols_result = lm.estimate(y, x, '', T=T)\n",
    "\n",
    "# Print table\n",
    "lm.print_table((label_y, label_x), ols_result, title=\"Pooled OLS\", floatfmt='.4f')"
   ]
  },
  {
   "cell_type": "markdown",
   "metadata": {},
   "source": [
    "### Fixed Effects (FE) "
   ]
  },
  {
   "cell_type": "code",
   "execution_count": 7,
   "metadata": {},
   "outputs": [
    {
     "name": "stdout",
     "output_type": "stream",
     "text": [
      "Rank of demeaned x: 2\n",
      "Eigenvalues of within-transformed x: [ 58. 214.]\n",
      "\n",
      "\n",
      "FE regression\n",
      "Dependent variable: Output\n",
      "\n",
      "           Beta      Se    t-values\n",
      "-------  ------  ------  ----------\n",
      "Labor    0.6942  0.0147     47.2447\n",
      "Capital  0.1546  0.0130     11.9311\n",
      "R² = 0.477\n",
      "σ² = 0.018\n"
     ]
    }
   ],
   "source": [
    "# Create transformation matrix\n",
    "def demeaning_matrix(T):\n",
    "    Q_T = np.eye(T) - np.tile(1/T,(T,T))\n",
    "    return Q_T\n",
    "\n",
    "# Print the matrix\n",
    "Q_T = demeaning_matrix(T)\n",
    "\n",
    "# Transform the data\n",
    "y_demean = lm.perm(Q_T, y)\n",
    "x_demean = lm.perm(Q_T, x)\n",
    "\n",
    "# Create function to check rank of demeaned matrix, and return its eigenvalues.\n",
    "def check_rank(x):\n",
    "    print(f'Rank of demeaned x: {la.matrix_rank(x)}')\n",
    "    lambdas, V = la.eig(x.T@x)\n",
    "    np.set_printoptions(suppress=True)  # This is just to print nicely.\n",
    "    print(f'Eigenvalues of within-transformed x: {lambdas.round(decimals=0)}')\n",
    "\n",
    "# Check rank of demeaned x\n",
    "check_rank(x_demean)\n",
    "\n",
    "# Estimate FE OLS using the demeaned variables.\n",
    "fe_result = lm.estimate(y_demean, x_demean, transform='fe', T=T)\n",
    "\n",
    "# Print results\n",
    "print('\\n')\n",
    "lm.print_table((label_y, label_x), fe_result, title='FE regression', floatfmt='.4f')"
   ]
  },
  {
   "cell_type": "markdown",
   "metadata": {},
   "source": [
    "### First-difference (FD)"
   ]
  },
  {
   "cell_type": "code",
   "execution_count": 8,
   "metadata": {},
   "outputs": [
    {
     "name": "stdout",
     "output_type": "stream",
     "text": [
      "Rank of demeaned x: 2\n",
      "Eigenvalues of within-transformed x: [47. 35.]\n",
      "\n",
      "\n",
      "FD regression\n",
      "Dependent variable: Output\n",
      "\n",
      "           Beta      Se    t-values\n",
      "-------  ------  ------  ----------\n",
      "Labor    0.5487  0.0183     29.9635\n",
      "Capital  0.0630  0.0191      3.3043\n",
      "R² = 0.165\n",
      "σ² = 0.014\n"
     ]
    }
   ],
   "source": [
    "# create transformation matrix\n",
    "def fd_matrix(T):\n",
    "    D_T = np.eye(T, k = 0) - np.eye(T, k=-1)\n",
    "    D_T = D_T[1:]\n",
    "    return D_T\n",
    "\n",
    "# use the function to create the matrix\n",
    "D_T = fd_matrix(T)\n",
    "\n",
    "# Transform the data.\n",
    "y_diff = lm.perm(D_T, y)\n",
    "x_diff = lm.perm(D_T, x)\n",
    "\n",
    "# Check rank of x_diff\n",
    "check_rank(x_diff)\n",
    "\n",
    "# Estimate FE OLS using the demeaned variables.\n",
    "fd_result = lm.estimate(y_diff, x_diff, transform='fd', T=T-1)\n",
    "\n",
    "# Print results\n",
    "print('\\n')\n",
    "lm.print_table((label_y, label_x), fd_result, title='FD regression', floatfmt='.4f')"
   ]
  },
  {
   "cell_type": "markdown",
   "metadata": {},
   "source": [
    "### Between (BE)"
   ]
  },
  {
   "cell_type": "code",
   "execution_count": 9,
   "metadata": {},
   "outputs": [
    {
     "name": "stdout",
     "output_type": "stream",
     "text": [
      "Between Estimator\n",
      "Dependent variable: Output\n",
      "\n",
      "           Beta      Se    t-values\n",
      "-------  ------  ------  ----------\n",
      "Labor    0.6672  0.0343     19.4794\n",
      "Capital  0.3188  0.0308     10.3348\n",
      "R² = 0.923\n",
      "σ² = 0.115\n"
     ]
    }
   ],
   "source": [
    "# Transform the data\n",
    "def mean_matrix(T):\n",
    "    P_T = np.tile(1/T, (1,T))\n",
    "    return P_T\n",
    "\n",
    "P_T = mean_matrix(T)\n",
    "\n",
    "# \n",
    "y_mean = lm.perm(P_T, y)\n",
    "x_mean = lm.perm(P_T, x)\n",
    "\n",
    "# Estimate \n",
    "be_result = lm.estimate(y_mean, x_mean, transform = 'be', T=T)\n",
    "lm.print_table((label_y, label_x), be_result, title=\"Between Estimator\", floatfmt='.4f')"
   ]
  },
  {
   "cell_type": "markdown",
   "metadata": {},
   "source": [
    "### Random Effects (RE)"
   ]
  },
  {
   "cell_type": "code",
   "execution_count": 10,
   "metadata": {},
   "outputs": [
    {
     "name": "stdout",
     "output_type": "stream",
     "text": [
      "Random Effects\n",
      "Dependent variable: Output\n",
      "\n",
      "           Beta      Se    t-values\n",
      "-------  ------  ------  ----------\n",
      "Labor    0.7197  0.0131     54.8368\n",
      "Capital  0.1989  0.0117     17.0325\n",
      "R² = 0.642\n",
      "σ² = 0.018\n",
      "λ = 0.887\n"
     ]
    }
   ],
   "source": [
    "# Calculate lambda (note lambda is a reserved keyword in Python, so we use _lambda instead)\n",
    "sigma2_u = fe_result['sigma2']\n",
    "sigma2_c = be_result['sigma2'] - sigma2_u/T\n",
    "_lambda = 1 - np.sqrt((sigma2_u)/(sigma2_u + T*sigma2_c))\n",
    "\n",
    "# Create the transformation matrix\n",
    "def quasi_matrix(T,_lambda):\n",
    "    return np.eye(T) - _lambda*P_T\n",
    "C_T = quasi_matrix(T,_lambda)\n",
    "\n",
    "# Transforming data\n",
    "y_re = lm.perm(C_T,y)\n",
    "x_re = lm.perm(C_T,x)\n",
    "\n",
    "# Estimate \n",
    "re_result = lm.estimate(y_re, x_re, transform=\"re\", T=T) \n",
    "lm.print_table((label_y, label_x), re_result, title=\"Random Effects\", floatfmt='.4f', _lambda = _lambda)"
   ]
  },
  {
   "cell_type": "markdown",
   "metadata": {},
   "source": [
    "### All Estimators"
   ]
  },
  {
   "cell_type": "code",
   "execution_count": 11,
   "metadata": {},
   "outputs": [
    {
     "name": "stdout",
     "output_type": "stream",
     "text": [
      "        OLS              FE               FD               RE\n",
      "------  ---------------  ---------------  ---------------  ---------------\n",
      "beta_L  0.6748 (0.0102)  0.6942 (0.0147)  0.5487 (0.0183)  0.7197 (0.0131)\n",
      "beta_K  0.31 (0.0091)    0.1546 (0.013)   0.063 (0.0191)   0.1989 (0.0117)\n",
      "Note: Parentheses contain standard errors\n"
     ]
    }
   ],
   "source": [
    "# Collecting all estimated parameters and standard errors\n",
    "estimator_params = np.concatenate((ols_result['b_hat'], fe_result['b_hat'], fd_result['b_hat'], re_result['b_hat']), axis = 1).round(4)\n",
    "estimator_se = np.concatenate((ols_result['se'], fe_result['se'], fd_result['se'], re_result['se']), axis = 1).round(4)\n",
    "\n",
    "# Create model headers and row names\n",
    "model_headers = [\"OLS\", \"FE\", \"FD\", \"RE\"]\n",
    "row_names = np.array([[\"beta_L\", \"beta_K\"]])\n",
    "\n",
    "# Combine estimator_params and estimator_se\n",
    "combined_values = []\n",
    "for i in range(estimator_params.shape[0]):\n",
    "    row_values = [\n",
    "        f\"{estimator_params[i, j]} ({estimator_se[i, j]})\"\n",
    "        for j in range(estimator_params.shape[1])\n",
    "    ]\n",
    "    combined_values.append(row_values)\n",
    "\n",
    "# Convert combined_values to a NumPy array\n",
    "combined_array = np.array(combined_values)\n",
    "\n",
    "# Concatenate row_names and combined_array\n",
    "est_comp = np.hstack((row_names.T, combined_array))\n",
    "\n",
    "# Create the table using tabulate\n",
    "est_table = tabulate(est_comp, headers=model_headers, floatfmt='.4f')\n",
    "\n",
    "# Print the table\n",
    "print(est_table)\n",
    "print('Note: Parentheses contain standard errors')"
   ]
  },
  {
   "cell_type": "markdown",
   "metadata": {},
   "source": [
    "## Tests"
   ]
  },
  {
   "cell_type": "markdown",
   "metadata": {},
   "source": [
    "### Wald Test - Constant Return to Scale"
   ]
  },
  {
   "cell_type": "code",
   "execution_count": 12,
   "metadata": {},
   "outputs": [
    {
     "name": "stdout",
     "output_type": "stream",
     "text": [
      "                   POLS        FE        FD       RE\n",
      "--------------  -------  --------  --------  -------\n",
      "Test value      13.0086  135.2718  251.6338  74.2907\n",
      "Critical value   3.8415    3.8415    3.8415   3.8415\n",
      "p-value          0.0003    0.0000    0.0000   0.0000\n"
     ]
    }
   ],
   "source": [
    "# Setting up matrices\n",
    "R = np.array([[1, 1]])  # Imposing restrictions\n",
    "r = 1 \n",
    "\n",
    "# Create function to perform Wald test\n",
    "def Wald_test(params, cov, headers_col, headers_row, R=R, r=r):\n",
    "    # a. Number of test of interest \n",
    "    M = params.shape[1]  \n",
    "    # b. Create empty matrix\n",
    "    out = np.zeros((3, M))\n",
    "    # c. Loop over estimators\n",
    "    for i in range(M):\n",
    "        # i. Test statistic\n",
    "        test_stat = (R @ params[:, i] - r) @ la.inv(R @ cov[i] @ R.T) @ (R @ params[:, i] - r)\n",
    "        # ii. Critical value\n",
    "        critical_value = chi2.ppf(0.95, r)  \n",
    "        # iii. p-value\n",
    "        p_value = chi2.sf(test_stat, r)     \n",
    "        # iv. Store results\n",
    "        out[:, i] = [test_stat, critical_value, p_value]\n",
    "    # d. Make and print table\n",
    "    table = tabulate(np.hstack((headers_row.T, out)), headers_col, floatfmt=\".4f\")\n",
    "    print(table)\n",
    "\n",
    "# Create headers for rows and columns \n",
    "headers_row = np.array([['Test value', 'Critical value', 'p-value']])\n",
    "headers_col = [\"POLS\", \"FE\", \"FD\", \"RE\"]\n",
    "\n",
    "# Extract the covariance matrices\n",
    "estimator_cov = np.array([ols_result['cov'], fe_result['cov'], fd_result['cov'], re_result['cov']])\n",
    "\n",
    "# Perform Wald test\n",
    "Wald_test(estimator_params, estimator_cov, headers_col, headers_row)"
   ]
  },
  {
   "cell_type": "markdown",
   "metadata": {},
   "source": [
    "### Hausman"
   ]
  },
  {
   "cell_type": "code",
   "execution_count": 13,
   "metadata": {},
   "outputs": [
    {
     "name": "stdout",
     "output_type": "stream",
     "text": [
      "The test statistic is 73.64.\n",
      "The critical value at a 5% significance level is 5.99.\n",
      "The p-value is 0.00000000.\n"
     ]
    }
   ],
   "source": [
    "# Unpack estimators and covariance matrices\n",
    "b_fe = fe_result['b_hat']\n",
    "b_re = re_result['b_hat']\n",
    "cov_fe = fe_result['cov']\n",
    "cov_re = re_result['cov']\n",
    "\n",
    "# Calculate the test statistic\n",
    "b_diff = b_fe - b_re \n",
    "cov_diff = cov_fe - cov_re\n",
    "H = b_diff.T @ la.inv(cov_diff) @ b_diff\n",
    "\n",
    "# Find critical value and p-value at 5% significance level of chi^2 with M degrees of freedom\n",
    "M = estimator_params.shape[0] \n",
    "crit_val = chi2.ppf(0.95, M)\n",
    "p_val = chi2.sf(H.item(), M)\n",
    "\n",
    "# Print the results\n",
    "print(f'The test statistic is {H.item():.2f}.')\n",
    "print(f'The critical value at a 5% significance level is {crit_val:.2f}.')\n",
    "print(f'The p-value is {p_val:.8f}.')"
   ]
  },
  {
   "cell_type": "markdown",
   "metadata": {},
   "source": [
    "### Strict Exogeneity for FE Estimator"
   ]
  },
  {
   "cell_type": "code",
   "execution_count": 26,
   "metadata": {},
   "outputs": [
    {
     "name": "stdout",
     "output_type": "stream",
     "text": [
      "Exogeneity test\n",
      "Dependent variable: Output\n",
      "\n",
      "                Beta      Se    t-values\n",
      "------------  ------  ------  ----------\n",
      "Labor         0.5408  0.0234     23.0904\n",
      "Capital       0.0280  0.0230      1.2153\n",
      "Labor lead    0.1667  0.0258      6.4706\n",
      "Capital lead  0.1419  0.0225      6.3134\n",
      "R² = 0.478\n",
      "σ² = 0.016\n",
      "\n",
      "\n",
      "The test statistic is 88.59.\n",
      "The critical value at a 5% significance level is 5.99.\n",
      "The p-value is 0.00000000.\n"
     ]
    }
   ],
   "source": [
    "# Remove the last observed year\n",
    "F_T = np.eye(T, k = 1)[:-1]\n",
    "lab_lead = lm.perm(F_T, x[:, 0].reshape(-1, 1))\n",
    "cap_lead = lm.perm(F_T, x[:, 1].reshape(-1, 1))\n",
    "\n",
    "# Remove the last observed year\n",
    "I_T =  np.eye(T, k = 0)[:-1]\n",
    "x_exo = lm.perm(I_T, x)\n",
    "y_exo = lm.perm(I_T, y)\n",
    "\n",
    "# Add lab_lead and cap_lead to x_exo\n",
    "x_exo = np.hstack((x_exo, cap_lead, lab_lead))\n",
    "\n",
    "# Within transform the data\n",
    "Q_T = demeaning_matrix(T-1)\n",
    "yw_exo = lm.perm(Q_T, y_exo)\n",
    "xw_exo = lm.perm(Q_T, x_exo)\n",
    "\n",
    "# Estimate model\n",
    "exo_test = lm.estimate(yw_exo, xw_exo, transform='fe', T=T-1)\n",
    "\n",
    "# Print results\n",
    "label_exo = label_x + ['Labor lead', 'Capital lead']\n",
    "lm.print_table((label_y, label_exo), exo_test, title='Exogeneity test', floatfmt='.4f')\n",
    "\n",
    "# Impose restrictions\n",
    "R = np.array([[0,0,1,0],[0,0,0,1]])\n",
    "r = np.zeros((2,1))\n",
    "\n",
    "stat = (R@exo_test['b_hat'] - r).T@la.inv((R@exo_test['cov']@R.T))@(R@exo_test['b_hat'] - r)\n",
    "crit_val = chi2.ppf(0.95, 2)\n",
    "p_val = chi2.sf(stat.item(), 2)\n",
    "\n",
    "print('\\n')\n",
    "print(f'The test statistic is {stat.item():.2f}.')\n",
    "print(f'The critical value at a 5% significance level is {crit_val:.2f}.')\n",
    "print(f'The p-value is {p_val:.8f}.')"
   ]
  },
  {
   "cell_type": "markdown",
   "metadata": {},
   "source": [
    "### Strict Exogeneity for FD Estimator"
   ]
  },
  {
   "cell_type": "code",
   "execution_count": 35,
   "metadata": {},
   "outputs": [
    {
     "name": "stdout",
     "output_type": "stream",
     "text": [
      "[[0. 1. 0. 0. 0. 0. 0. 0. 0. 0. 0. 0.]\n",
      " [0. 0. 1. 0. 0. 0. 0. 0. 0. 0. 0. 0.]\n",
      " [0. 0. 0. 1. 0. 0. 0. 0. 0. 0. 0. 0.]\n",
      " [0. 0. 0. 0. 1. 0. 0. 0. 0. 0. 0. 0.]\n",
      " [0. 0. 0. 0. 0. 1. 0. 0. 0. 0. 0. 0.]\n",
      " [0. 0. 0. 0. 0. 0. 1. 0. 0. 0. 0. 0.]\n",
      " [0. 0. 0. 0. 0. 0. 0. 1. 0. 0. 0. 0.]\n",
      " [0. 0. 0. 0. 0. 0. 0. 0. 1. 0. 0. 0.]\n",
      " [0. 0. 0. 0. 0. 0. 0. 0. 0. 1. 0. 0.]\n",
      " [0. 0. 0. 0. 0. 0. 0. 0. 0. 0. 1. 0.]\n",
      " [0. 0. 0. 0. 0. 0. 0. 0. 0. 0. 0. 1.]]\n",
      "(4851, 1)\n",
      "(4851, 1)\n",
      "(4851, 2)\n",
      "Exogeneity test\n",
      "Dependent variable: Output\n",
      "\n",
      "                Beta      Se    t-values\n",
      "------------  ------  ------  ----------\n",
      "Labor         0.5408  0.0223     24.2184\n",
      "Capital       0.0280  0.0220      1.2746\n",
      "Capital lead  0.1667  0.0246      6.7867\n",
      "Labor lead    0.1419  0.0214      6.6218\n",
      "R² = 0.478\n",
      "σ² = 0.015\n",
      "\n",
      "\n",
      "The test statistic is 97.45.\n",
      "The critical value at a 5% significance level is 5.99.\n",
      "The p-value is 0.00000000.\n"
     ]
    }
   ],
   "source": [
    "F_T = np.eye(T, k=1)[:-1]\n",
    "print(F_T)\n",
    "\n",
    "# Lead capital and labor\n",
    "lab_lead = lm.perm(F_T, x[:, 0].reshape(-1, 1))\n",
    "#print(x[:, 0].reshape(-1, 1).shape)\n",
    "print(lab_lead.shape)\n",
    "cap_lead = lm.perm(F_T, x[:, 1].reshape(-1, 1))\n",
    "print(cap_lead.shape)\n",
    "\n",
    "# Remove the last observed year for every individial\n",
    "I_T =  np.eye(T, k = 0)[:-1]\n",
    "#print(I_T)\n",
    "x_exo = lm.perm(I_T, x)\n",
    "print(x_exo.shape)\n",
    "y_exo = lm.perm(I_T, y)\n",
    "\n",
    "# Add cap_lead and lab_lead to x_exo\n",
    "x_exo = np.hstack((x_exo, cap_lead, lab_lead))\n",
    "\n",
    "# Within transform the data\n",
    "Q_T = demeaning_matrix(T-1)\n",
    "yw_exo = lm.perm(Q_T, y_exo)\n",
    "xw_exo = lm.perm(Q_T, x_exo)\n",
    "\n",
    "# Estimate model\n",
    "exo_test = lm.estimate(yw_exo, xw_exo, transform='fd', T=T-1)\n",
    "\n",
    "# Print results\n",
    "label_exo = label_x + ['Capital lead', 'Labor lead']\n",
    "lm.print_table((label_y, label_exo), exo_test, title='Exogeneity test', floatfmt='.4f')\n",
    "\n",
    "# Impose restrictions\n",
    "R = np.array([[0,0,1,0],[0,0,0,1]])\n",
    "r = np.zeros((2,1))\n",
    "\n",
    "stat = (R@exo_test['b_hat'] - r).T@la.inv((R@exo_test['cov']@R.T))@(R@exo_test['b_hat'] - r)\n",
    "crit_val = chi2.ppf(0.95, 2)\n",
    "p_val = chi2.sf(stat.item(), 2)\n",
    "\n",
    "print('\\n')\n",
    "print(f'The test statistic is {stat.item():.2f}.')\n",
    "print(f'The critical value at a 5% significance level is {crit_val:.2f}.')\n",
    "print(f'The p-value is {p_val:.8f}.')"
   ]
  },
  {
   "cell_type": "code",
   "execution_count": null,
   "metadata": {},
   "outputs": [],
   "source": []
  }
 ],
 "metadata": {
  "kernelspec": {
   "display_name": "base",
   "language": "python",
   "name": "python3"
  },
  "language_info": {
   "codemirror_mode": {
    "name": "ipython",
    "version": 3
   },
   "file_extension": ".py",
   "mimetype": "text/x-python",
   "name": "python",
   "nbconvert_exporter": "python",
   "pygments_lexer": "ipython3",
   "version": "3.11.4"
  },
  "orig_nbformat": 4
 },
 "nbformat": 4,
 "nbformat_minor": 2
}
