{
 "cells": [
  {
   "cell_type": "markdown",
   "metadata": {},
   "source": [
    "# Advanced Microeconometrics 2023 Final Exam: Getting Started with the Data\n",
    "\n",
    "*9:00 am January 13th to 9:00 am January 15th, 2024* \n",
    "\n",
    "The code herein is merely intended as a help for reading in the data. You are free to disregard it entirely. "
   ]
  },
  {
   "cell_type": "code",
   "execution_count": 1,
   "metadata": {},
   "outputs": [],
   "source": [
    "import pandas as pd\n",
    "import numpy as np\n",
    "import matplotlib.pyplot as plt\n",
    "from numpy import linalg as la\n",
    "from scipy.stats import norm\n",
    "from scipy import optimize\n",
    "\n",
    "import estimation as est\n",
    "import LinearModels as lm\n",
    "import SampleSelection_post as ssm"
   ]
  },
  {
   "cell_type": "markdown",
   "metadata": {},
   "source": [
    "# Cross Sectional Data"
   ]
  },
  {
   "cell_type": "code",
   "execution_count": 2,
   "metadata": {},
   "outputs": [],
   "source": [
    "data = pd.read_csv('data.csv')"
   ]
  },
  {
   "cell_type": "code",
   "execution_count": 3,
   "metadata": {},
   "outputs": [
    {
     "data": {
      "text/html": [
       "<div>\n",
       "<style scoped>\n",
       "    .dataframe tbody tr th:only-of-type {\n",
       "        vertical-align: middle;\n",
       "    }\n",
       "\n",
       "    .dataframe tbody tr th {\n",
       "        vertical-align: top;\n",
       "    }\n",
       "\n",
       "    .dataframe thead th {\n",
       "        text-align: right;\n",
       "    }\n",
       "</style>\n",
       "<table border=\"1\" class=\"dataframe\">\n",
       "  <thead>\n",
       "    <tr style=\"text-align: right;\">\n",
       "      <th></th>\n",
       "      <th>y</th>\n",
       "      <th>x</th>\n",
       "      <th>s</th>\n",
       "    </tr>\n",
       "  </thead>\n",
       "  <tbody>\n",
       "    <tr>\n",
       "      <th>0</th>\n",
       "      <td>NaN</td>\n",
       "      <td>-0.617175</td>\n",
       "      <td>0.0</td>\n",
       "    </tr>\n",
       "    <tr>\n",
       "      <th>1</th>\n",
       "      <td>NaN</td>\n",
       "      <td>0.362635</td>\n",
       "      <td>0.0</td>\n",
       "    </tr>\n",
       "    <tr>\n",
       "      <th>2</th>\n",
       "      <td>NaN</td>\n",
       "      <td>0.123566</td>\n",
       "      <td>0.0</td>\n",
       "    </tr>\n",
       "    <tr>\n",
       "      <th>3</th>\n",
       "      <td>NaN</td>\n",
       "      <td>1.305788</td>\n",
       "      <td>0.0</td>\n",
       "    </tr>\n",
       "    <tr>\n",
       "      <th>4</th>\n",
       "      <td>NaN</td>\n",
       "      <td>-1.258760</td>\n",
       "      <td>0.0</td>\n",
       "    </tr>\n",
       "    <tr>\n",
       "      <th>5</th>\n",
       "      <td>NaN</td>\n",
       "      <td>-0.937543</td>\n",
       "      <td>0.0</td>\n",
       "    </tr>\n",
       "    <tr>\n",
       "      <th>6</th>\n",
       "      <td>3.573326</td>\n",
       "      <td>0.793135</td>\n",
       "      <td>1.0</td>\n",
       "    </tr>\n",
       "    <tr>\n",
       "      <th>7</th>\n",
       "      <td>3.275980</td>\n",
       "      <td>1.263474</td>\n",
       "      <td>1.0</td>\n",
       "    </tr>\n",
       "    <tr>\n",
       "      <th>8</th>\n",
       "      <td>NaN</td>\n",
       "      <td>-1.657206</td>\n",
       "      <td>0.0</td>\n",
       "    </tr>\n",
       "    <tr>\n",
       "      <th>9</th>\n",
       "      <td>3.246213</td>\n",
       "      <td>1.421604</td>\n",
       "      <td>1.0</td>\n",
       "    </tr>\n",
       "    <tr>\n",
       "      <th>10</th>\n",
       "      <td>NaN</td>\n",
       "      <td>-0.026992</td>\n",
       "      <td>0.0</td>\n",
       "    </tr>\n",
       "    <tr>\n",
       "      <th>11</th>\n",
       "      <td>NaN</td>\n",
       "      <td>-0.744862</td>\n",
       "      <td>0.0</td>\n",
       "    </tr>\n",
       "    <tr>\n",
       "      <th>12</th>\n",
       "      <td>NaN</td>\n",
       "      <td>0.043518</td>\n",
       "      <td>0.0</td>\n",
       "    </tr>\n",
       "    <tr>\n",
       "      <th>13</th>\n",
       "      <td>3.499548</td>\n",
       "      <td>1.044933</td>\n",
       "      <td>1.0</td>\n",
       "    </tr>\n",
       "    <tr>\n",
       "      <th>14</th>\n",
       "      <td>NaN</td>\n",
       "      <td>-0.243589</td>\n",
       "      <td>0.0</td>\n",
       "    </tr>\n",
       "    <tr>\n",
       "      <th>15</th>\n",
       "      <td>-0.612786</td>\n",
       "      <td>-0.260596</td>\n",
       "      <td>1.0</td>\n",
       "    </tr>\n",
       "    <tr>\n",
       "      <th>16</th>\n",
       "      <td>NaN</td>\n",
       "      <td>0.611782</td>\n",
       "      <td>0.0</td>\n",
       "    </tr>\n",
       "    <tr>\n",
       "      <th>17</th>\n",
       "      <td>NaN</td>\n",
       "      <td>0.488868</td>\n",
       "      <td>0.0</td>\n",
       "    </tr>\n",
       "    <tr>\n",
       "      <th>18</th>\n",
       "      <td>NaN</td>\n",
       "      <td>-0.733813</td>\n",
       "      <td>0.0</td>\n",
       "    </tr>\n",
       "    <tr>\n",
       "      <th>19</th>\n",
       "      <td>4.555410</td>\n",
       "      <td>1.744442</td>\n",
       "      <td>1.0</td>\n",
       "    </tr>\n",
       "  </tbody>\n",
       "</table>\n",
       "</div>"
      ],
      "text/plain": [
       "           y         x    s\n",
       "0        NaN -0.617175  0.0\n",
       "1        NaN  0.362635  0.0\n",
       "2        NaN  0.123566  0.0\n",
       "3        NaN  1.305788  0.0\n",
       "4        NaN -1.258760  0.0\n",
       "5        NaN -0.937543  0.0\n",
       "6   3.573326  0.793135  1.0\n",
       "7   3.275980  1.263474  1.0\n",
       "8        NaN -1.657206  0.0\n",
       "9   3.246213  1.421604  1.0\n",
       "10       NaN -0.026992  0.0\n",
       "11       NaN -0.744862  0.0\n",
       "12       NaN  0.043518  0.0\n",
       "13  3.499548  1.044933  1.0\n",
       "14       NaN -0.243589  0.0\n",
       "15 -0.612786 -0.260596  1.0\n",
       "16       NaN  0.611782  0.0\n",
       "17       NaN  0.488868  0.0\n",
       "18       NaN -0.733813  0.0\n",
       "19  4.555410  1.744442  1.0"
      ]
     },
     "execution_count": 3,
     "metadata": {},
     "output_type": "execute_result"
    }
   ],
   "source": [
    "# There are outcomes (y) missing and s indicates which outcomes are not missing\n",
    "data.head(20)"
   ]
  },
  {
   "cell_type": "code",
   "execution_count": 4,
   "metadata": {},
   "outputs": [
    {
     "data": {
      "text/html": [
       "<div>\n",
       "<style scoped>\n",
       "    .dataframe tbody tr th:only-of-type {\n",
       "        vertical-align: middle;\n",
       "    }\n",
       "\n",
       "    .dataframe tbody tr th {\n",
       "        vertical-align: top;\n",
       "    }\n",
       "\n",
       "    .dataframe thead th {\n",
       "        text-align: right;\n",
       "    }\n",
       "</style>\n",
       "<table border=\"1\" class=\"dataframe\">\n",
       "  <thead>\n",
       "    <tr style=\"text-align: right;\">\n",
       "      <th></th>\n",
       "      <th>y</th>\n",
       "      <th>x</th>\n",
       "      <th>s</th>\n",
       "    </tr>\n",
       "  </thead>\n",
       "  <tbody>\n",
       "    <tr>\n",
       "      <th>count</th>\n",
       "      <td>448.000000</td>\n",
       "      <td>1000.000000</td>\n",
       "      <td>1000.000000</td>\n",
       "    </tr>\n",
       "    <tr>\n",
       "      <th>mean</th>\n",
       "      <td>1.415272</td>\n",
       "      <td>0.014009</td>\n",
       "      <td>0.448000</td>\n",
       "    </tr>\n",
       "    <tr>\n",
       "      <th>std</th>\n",
       "      <td>1.955411</td>\n",
       "      <td>0.994254</td>\n",
       "      <td>0.497537</td>\n",
       "    </tr>\n",
       "    <tr>\n",
       "      <th>min</th>\n",
       "      <td>-4.486865</td>\n",
       "      <td>-3.049044</td>\n",
       "      <td>0.000000</td>\n",
       "    </tr>\n",
       "    <tr>\n",
       "      <th>25%</th>\n",
       "      <td>-0.027941</td>\n",
       "      <td>-0.637182</td>\n",
       "      <td>0.000000</td>\n",
       "    </tr>\n",
       "    <tr>\n",
       "      <th>50%</th>\n",
       "      <td>1.286428</td>\n",
       "      <td>-0.027879</td>\n",
       "      <td>0.000000</td>\n",
       "    </tr>\n",
       "    <tr>\n",
       "      <th>75%</th>\n",
       "      <td>2.633311</td>\n",
       "      <td>0.700595</td>\n",
       "      <td>1.000000</td>\n",
       "    </tr>\n",
       "    <tr>\n",
       "      <th>max</th>\n",
       "      <td>9.265470</td>\n",
       "      <td>4.279818</td>\n",
       "      <td>1.000000</td>\n",
       "    </tr>\n",
       "  </tbody>\n",
       "</table>\n",
       "</div>"
      ],
      "text/plain": [
       "                y            x            s\n",
       "count  448.000000  1000.000000  1000.000000\n",
       "mean     1.415272     0.014009     0.448000\n",
       "std      1.955411     0.994254     0.497537\n",
       "min     -4.486865    -3.049044     0.000000\n",
       "25%     -0.027941    -0.637182     0.000000\n",
       "50%      1.286428    -0.027879     0.000000\n",
       "75%      2.633311     0.700595     1.000000\n",
       "max      9.265470     4.279818     1.000000"
      ]
     },
     "execution_count": 4,
     "metadata": {},
     "output_type": "execute_result"
    }
   ],
   "source": [
    "data.describe()"
   ]
  },
  {
   "cell_type": "code",
   "execution_count": 5,
   "metadata": {},
   "outputs": [
    {
     "data": {
      "image/png": "[encoded data removed]",
      "text/plain": [
       "<Figure size 640x480 with 1 Axes>"
      ]
     },
     "metadata": {},
     "output_type": "display_data"
    }
   ],
   "source": [
    "# Plot histograms\n",
    "fig = plt.figure()\n",
    "ax = fig.add_subplot(1, 1, 1)\n",
    "# ax.plot(data['y'][data['s'] == 1], alpha=0.5)\n",
    "ax.hist(data['y'][data['s'] == 1], bins=100, alpha=0.5, density=True) \n",
    "ax.legend(['s=1', 's=0'])\n",
    "ax.set_ylabel('Density');"
   ]
  },
  {
   "cell_type": "code",
   "execution_count": 6,
   "metadata": {},
   "outputs": [],
   "source": [
    "# We want to check for missings and remove them, but only for variables that we are interested in.\n",
    "# We therefore gather all the labels into one \"check_missing\" label.\n",
    "xlbl = ['delta', 'eta']\n",
    "ylbl = 'y'\n",
    "slbl = 's' # exclusion restriction, s == 0 "
   ]
  },
  {
   "cell_type": "code",
   "execution_count": 7,
   "metadata": {},
   "outputs": [],
   "source": [
    "# Extracting the data\n",
    "y = data['y'].values.reshape(-1, 1)\n",
    "x = data['x'].values.reshape(-1, 1)\n",
    "s = data['s'].values.reshape(-1, 1)"
   ]
  },
  {
   "cell_type": "markdown",
   "metadata": {},
   "source": [
    "## Heckit"
   ]
  },
  {
   "cell_type": "markdown",
   "metadata": {},
   "source": [
    "### 7. "
   ]
  },
  {
   "cell_type": "code",
   "execution_count": 8,
   "metadata": {},
   "outputs": [
    {
     "name": "stdout",
     "output_type": "stream",
     "text": [
      "Optimization terminated successfully.\n",
      "         Current function value: 0.429875\n",
      "         Iterations: 10\n",
      "         Function evaluations: 33\n",
      "         Gradient evaluations: 11\n",
      "Optimizer succeded after 10 iter. (33 func. evals.). Final criterion:   0.4299.\n",
      "First step results\n"
     ]
    },
    {
     "data": {
      "text/html": [
       "<div>\n",
       "<style scoped>\n",
       "    .dataframe tbody tr th:only-of-type {\n",
       "        vertical-align: middle;\n",
       "    }\n",
       "\n",
       "    .dataframe tbody tr th {\n",
       "        vertical-align: top;\n",
       "    }\n",
       "\n",
       "    .dataframe thead th {\n",
       "        text-align: right;\n",
       "    }\n",
       "</style>\n",
       "<table border=\"1\" class=\"dataframe\">\n",
       "  <thead>\n",
       "    <tr style=\"text-align: right;\">\n",
       "      <th></th>\n",
       "      <th>theta</th>\n",
       "      <th>se</th>\n",
       "      <th>t</th>\n",
       "    </tr>\n",
       "  </thead>\n",
       "  <tbody>\n",
       "    <tr>\n",
       "      <th>delta</th>\n",
       "      <td>1.5041</td>\n",
       "      <td>0.0909</td>\n",
       "      <td>16.5397</td>\n",
       "    </tr>\n",
       "    <tr>\n",
       "      <th>eta</th>\n",
       "      <td>0.4888</td>\n",
       "      <td>0.0566</td>\n",
       "      <td>8.6306</td>\n",
       "    </tr>\n",
       "  </tbody>\n",
       "</table>\n",
       "</div>"
      ],
      "text/plain": [
       "        theta      se        t\n",
       "delta  1.5041  0.0909  16.5397\n",
       "eta    0.4888  0.0566   8.6306"
      ]
     },
     "execution_count": 8,
     "metadata": {},
     "output_type": "execute_result"
    }
   ],
   "source": [
    "# a. estimate the first Heckit step \n",
    "first_step = est.estimate(ssm.q, ssm.starting_values(s, x), s, x, cov_type='Sandwich')\n",
    "\n",
    "# b. print the results \n",
    "est.print_table(xlbl, first_step, title='First step results')"
   ]
  },
  {
   "cell_type": "code",
   "execution_count": 9,
   "metadata": {},
   "outputs": [],
   "source": [
    "# extract delta and eta from the results\n",
    "delta = first_step['theta'][0]\n",
    "eta = first_step['theta'][1]"
   ]
  },
  {
   "cell_type": "markdown",
   "metadata": {},
   "source": [
    "### 9."
   ]
  },
  {
   "cell_type": "code",
   "execution_count": 10,
   "metadata": {},
   "outputs": [
    {
     "name": "stdout",
     "output_type": "stream",
     "text": [
      "PE:  0.39\n"
     ]
    }
   ],
   "source": [
    "# a. estimate the PE\n",
    "PE = norm.pdf(x*delta) * delta\n",
    "\n",
    "# b. print the results\n",
    "print('PE: ', PE[0][0].round(4))"
   ]
  },
  {
   "cell_type": "code",
   "execution_count": 11,
   "metadata": {},
   "outputs": [],
   "source": [
    "# a. find the stadard errors of delta\n",
    "i = 0\n",
    "bb = np.outer(delta,delta)\n",
    "xx = np.outer(x[i], x[i])\n",
    "I_K = np.eye(1)\n",
    "gx0 = norm.pdf(x[i]*delta)\n",
    "\n",
    "# b. the gradient \n",
    "grad_c_pr = gx0@(I_K - bb @ xx)\n",
    "\n",
    "# c. the standard errors function \n",
    "def get_se(grad, cov):\n",
    "    cov_me = grad*cov*grad.T\n",
    "    return np.sqrt(np.diag(cov_me))\n",
    "\n",
    "# d. extract the standard errors\n",
    "se_c_pr = get_se(grad_c_pr, first_step['cov'][0])"
   ]
  },
  {
   "cell_type": "code",
   "execution_count": 12,
   "metadata": {},
   "outputs": [
    {
     "data": {
      "text/html": [
       "<div>\n",
       "<style scoped>\n",
       "    .dataframe tbody tr th:only-of-type {\n",
       "        vertical-align: middle;\n",
       "    }\n",
       "\n",
       "    .dataframe tbody tr th {\n",
       "        vertical-align: top;\n",
       "    }\n",
       "\n",
       "    .dataframe thead th {\n",
       "        text-align: right;\n",
       "    }\n",
       "</style>\n",
       "<table border=\"1\" class=\"dataframe\">\n",
       "  <thead>\n",
       "    <tr style=\"text-align: right;\">\n",
       "      <th></th>\n",
       "      <th>Marginal Effect</th>\n",
       "      <th>s.e.</th>\n",
       "      <th>t</th>\n",
       "    </tr>\n",
       "    <tr>\n",
       "      <th>Var</th>\n",
       "      <th></th>\n",
       "      <th></th>\n",
       "      <th></th>\n",
       "    </tr>\n",
       "  </thead>\n",
       "  <tbody>\n",
       "    <tr>\n",
       "      <th>PE</th>\n",
       "      <td>0.39</td>\n",
       "      <td>0.0033</td>\n",
       "      <td>119.6143</td>\n",
       "    </tr>\n",
       "  </tbody>\n",
       "</table>\n",
       "</div>"
      ],
      "text/plain": [
       "     Marginal Effect    s.e.         t\n",
       "Var                                   \n",
       "PE              0.39  0.0033  119.6143"
      ]
     },
     "execution_count": 12,
     "metadata": {},
     "output_type": "execute_result"
    }
   ],
   "source": [
    "# a. make a table of the results \n",
    "me_dict = {'Marginal Effect': PE[0], 's.e.': se_c_pr[0,0]}\n",
    "tab = pd.DataFrame(me_dict,index=['PE'])\n",
    "tab['t'] = tab['Marginal Effect'] / tab['s.e.']\n",
    "tab.index.name = 'Var'\n",
    "tab.round(4)"
   ]
  },
  {
   "cell_type": "markdown",
   "metadata": {},
   "source": [
    "### 11."
   ]
  },
  {
   "cell_type": "code",
   "execution_count": 13,
   "metadata": {},
   "outputs": [
    {
     "name": "stdout",
     "output_type": "stream",
     "text": [
      "Estimated lambda:  0.423\n"
     ]
    }
   ],
   "source": [
    "# a. estimating inverse Mills ratios\n",
    "xb = x*first_step['theta'][0]\n",
    "_lambda = norm.pdf(xb)/norm.cdf(xb)\n",
    "\n",
    "# b. for only the sample of s=1\n",
    "_lambda = _lambda[s.flatten() == 1]\n",
    "print('Estimated lambda: ', _lambda.mean().round(4))"
   ]
  },
  {
   "cell_type": "code",
   "execution_count": 14,
   "metadata": {},
   "outputs": [],
   "source": [
    "# set the x and y with s=1\n",
    "I = s.flatten() == 1\n",
    "x_new = x[I]\n",
    "y_new = y[I]"
   ]
  },
  {
   "cell_type": "code",
   "execution_count": 15,
   "metadata": {},
   "outputs": [],
   "source": [
    "# add the IMR as a generated regressor\n",
    "ximr = np.hstack((_lambda.reshape(-1, 1), x_new))"
   ]
  },
  {
   "cell_type": "code",
   "execution_count": 16,
   "metadata": {},
   "outputs": [],
   "source": [
    "# lbel the new regressors\n",
    "x_newlbl = ['beta']\n",
    "xlblimr = x_newlbl.copy()\n",
    "xlblimr.insert(0, 'gamma')"
   ]
  },
  {
   "cell_type": "code",
   "execution_count": 17,
   "metadata": {},
   "outputs": [
    {
     "name": "stdout",
     "output_type": "stream",
     "text": [
      "Results accounting for selection\n",
      "Dependent variable: y\n",
      "\n",
      "          Beta      Se    t-values\n",
      "-----  -------  ------  ----------\n",
      "gamma  -0.0300  0.0956     -0.3144\n",
      "beta    2.0885  0.0639     32.6720\n",
      "R² = 0.625\n",
      "σ² = 1.439\n"
     ]
    },
    {
     "name": "stderr",
     "output_type": "stream",
     "text": [
      "/Users/juliekrabek/anaconda3/lib/python3.11/site-packages/tabulate/__init__.py:108: FutureWarning: elementwise comparison failed; returning scalar instead, but in the future will perform elementwise comparison\n",
      "  or (len(row) >= 2 and row[1] == SEPARATING_LINE)\n"
     ]
    }
   ],
   "source": [
    "# a. estimate the second step of the Heckit model\n",
    "second_step = lm.estimate(y_new, ximr)\n",
    "\n",
    "# b. print the results\n",
    "lm.print_table((ylbl, xlblimr), second_step, \n",
    "    title=\"Results accounting for selection\", floatfmt='.4f')"
   ]
  }
 ],
 "metadata": {
  "kernelspec": {
   "display_name": "base",
   "language": "python",
   "name": "python3"
  },
  "language_info": {
   "codemirror_mode": {
    "name": "ipython",
    "version": 3
   },
   "file_extension": ".py",
   "mimetype": "text/x-python",
   "name": "python",
   "nbconvert_exporter": "python",
   "pygments_lexer": "ipython3",
   "version": "3.11.4"
  }
 },
 "nbformat": 4,
 "nbformat_minor": 2
}
